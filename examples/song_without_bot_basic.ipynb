{
 "cells": [
  {
   "cell_type": "code",
   "execution_count": 1,
   "metadata": {},
   "outputs": [],
   "source": [
    "from tools.song_getter import *\n",
    "from classes.Song import Song"
   ]
  },
  {
   "cell_type": "code",
   "execution_count": 2,
   "metadata": {},
   "outputs": [
    {
     "data": {
      "text/plain": [
       "{'verse': ['Am7', 'Dm7', 'G7', 'Cmaj7', 'F', 'Dm', 'E', 'Am', 'A7'],\n",
       " 'chorus': ['Dm7', 'G7', 'C', 'Am', 'Dm7', 'G7', 'C', 'E'],\n",
       " 'verse_1': ['Am', 'Dm7', 'G7', 'Cmaj7', 'F', 'Dm7', 'E', 'Am', 'A7'],\n",
       " 'chorus_1': ['Dm7', 'G7', 'C', 'Am', 'E', 'Dm7', 'G7', 'Fm', 'C'],\n",
       " 'instrumental': ['Am',\n",
       "  'Dm7',\n",
       "  'G7',\n",
       "  'Cmaj7',\n",
       "  'F',\n",
       "  'Dm',\n",
       "  'E',\n",
       "  'Am',\n",
       "  'Dm7',\n",
       "  'G7',\n",
       "  'Em',\n",
       "  'A7',\n",
       "  'E',\n",
       "  'Dm7',\n",
       "  'G7',\n",
       "  'C',\n",
       "  'E'],\n",
       " 'verse_2': ['Am', 'Dm7', 'G7', 'Cmaj7', 'F', 'Dm', 'E', 'Am', 'A7'],\n",
       " 'chorus_2': ['Dm7', 'G7', 'C', 'Am', 'Dm7', 'G7', 'Am7', 'G', 'G7', 'C']}"
      ]
     },
     "execution_count": 2,
     "metadata": {},
     "output_type": "execute_result"
    }
   ],
   "source": [
    "song = 'fly me to the moon'\n",
    "artist = 'frank sinatra'\n",
    "\n",
    "structured_song = song_getter.func(song_name = song, artist_name = artist)\n",
    "structured_song"
   ]
  },
  {
   "cell_type": "code",
   "execution_count": 3,
   "metadata": {},
   "outputs": [
    {
     "data": {
      "image/png": "[encoded data removed]",
      "text/plain": [
       "<PIL.Image.Image image mode=RGB size=450x850>"
      ]
     },
     "execution_count": 3,
     "metadata": {},
     "output_type": "execute_result"
    }
   ],
   "source": [
    "s = Song(song_name = song, artist_name = artist, song_structure_and_chords = structured_song)\n",
    "s.create_coloured_chords_image()"
   ]
  }
 ],
 "metadata": {
  "kernelspec": {
   "display_name": "ny-news-puller",
   "language": "python",
   "name": "python3"
  },
  "language_info": {
   "codemirror_mode": {
    "name": "ipython",
    "version": 3
   },
   "file_extension": ".py",
   "mimetype": "text/x-python",
   "name": "python",
   "nbconvert_exporter": "python",
   "pygments_lexer": "ipython3",
   "version": "3.10.11"
  },
  "orig_nbformat": 4
 },
 "nbformat": 4,
 "nbformat_minor": 2
}
