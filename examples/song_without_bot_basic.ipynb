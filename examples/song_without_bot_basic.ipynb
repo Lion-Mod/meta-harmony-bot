{
 "cells": [
  {
   "cell_type": "code",
   "execution_count": 1,
   "metadata": {},
   "outputs": [],
   "source": [
    "from tools.song_getter import *\n",
    "from functions.chord_data_processers import *\n",
    "from functions.coloured_image_generator import create_image_from_dictionary"
   ]
  },
  {
   "cell_type": "code",
   "execution_count": 2,
   "metadata": {},
   "outputs": [
    {
     "data": {
      "text/plain": [
       "{'verse': [('A', None, 'min7', 'o', '', '', '', '', '', ''),\n",
       "  ('D', None, 'min7', 'g', '', '', '', '', '', ''),\n",
       "  ('G', None, 'dom', 'p', 'dom', 'syntonic', 'b', '', '', ''),\n",
       "  ('C', None, 'maj7', 'o', '', '', '', '', '', ''),\n",
       "  ('F', None, 'maj', 'g', '', '', '', '', '', ''),\n",
       "  ('D', None, 'min', 'g', '', '', '', '', '', ''),\n",
       "  ('E', None, 'maj', 'p', '', '', '', '', '', ''),\n",
       "  ('A', None, 'min', 'o', '', '', '', '', '', ''),\n",
       "  ('A', None, 'dom', 'o', 'dom', 'syntonic', 'r', '', '', '')],\n",
       " 'chorus': [('D', None, 'min7', 'g', '', '', '', '', '', ''),\n",
       "  ('G', None, 'dom', 'p', 'dom', 'syntonic', 'b', '', '', ''),\n",
       "  ('C', None, 'maj', 'o', '', '', '', '', '', ''),\n",
       "  ('A', None, 'min', 'o', '', '', '', '', '', ''),\n",
       "  ('D', None, 'min7', 'g', '', '', '', '', '', ''),\n",
       "  ('G', None, 'dom', 'p', 'dom', 'syntonic', 'b', '', '', ''),\n",
       "  ('C', None, 'maj', 'o', '', '', '', '', '', ''),\n",
       "  ('E', None, 'maj', 'p', '', '', '', '', '', '')],\n",
       " 'verse_1': [('A', None, 'min', 'o', '', '', '', '', '', ''),\n",
       "  ('D', None, 'min7', 'g', '', '', '', '', '', ''),\n",
       "  ('G', None, 'dom', 'p', 'dom', 'syntonic', 'b', '', '', ''),\n",
       "  ('C', None, 'maj7', 'o', '', '', '', '', '', ''),\n",
       "  ('F', None, 'maj', 'g', '', '', '', '', '', ''),\n",
       "  ('D', None, 'min7', 'g', '', '', '', '', '', ''),\n",
       "  ('E', None, 'maj', 'p', '', '', '', '', '', ''),\n",
       "  ('A', None, 'min', 'o', '', '', '', '', '', ''),\n",
       "  ('A', None, 'dom', 'o', 'dom', 'syntonic', 'r', '', '', '')],\n",
       " 'chorus_1': [('D', None, 'min7', 'g', '', '', '', '', '', ''),\n",
       "  ('G', None, 'dom', 'p', 'dom', 'syntonic', 'b', '', '', ''),\n",
       "  ('C', None, 'maj', 'o', '', '', '', '', '', ''),\n",
       "  ('A', None, 'min', 'o', '', '', '', '', '', ''),\n",
       "  ('E', None, 'maj', 'p', '', '', '', '', '', ''),\n",
       "  ('D', None, 'min7', 'g', '', '', '', '', '', ''),\n",
       "  ('G', None, 'dom', 'p', 'dom', 'syntonic', 'b', '', '', ''),\n",
       "  ('F', None, 'min', 'g', '', '', '', '', '', ''),\n",
       "  ('C', None, 'maj', 'o', '', '', '', '', '', '')],\n",
       " 'instrumental': [('A', None, 'min', 'o', '', '', '', '', '', ''),\n",
       "  ('D', None, 'min7', 'g', '', '', '', '', '', ''),\n",
       "  ('G', None, 'dom', 'p', 'dom', 'syntonic', 'b', '', '', ''),\n",
       "  ('C', None, 'maj7', 'o', '', '', '', '', '', ''),\n",
       "  ('F', None, 'maj', 'g', '', '', '', '', '', ''),\n",
       "  ('D', None, 'min', 'g', '', '', '', '', '', ''),\n",
       "  ('E', None, 'maj', 'p', '', '', '', '', '', ''),\n",
       "  ('A', None, 'min', 'o', '', '', '', '', '', ''),\n",
       "  ('D', None, 'min7', 'g', '', '', '', '', '', ''),\n",
       "  ('G', None, 'dom', 'p', 'dom', 'syntonic', 'b', '', '', ''),\n",
       "  ('E', None, 'min', 'p', '', '', '', '', '', ''),\n",
       "  ('A', None, 'dom', 'o', 'dom', 'syntonic', 'r', '', '', ''),\n",
       "  ('E', None, 'maj', 'p', '', '', '', '', '', ''),\n",
       "  ('D', None, 'min7', 'g', '', '', '', '', '', ''),\n",
       "  ('G', None, 'dom', 'p', 'dom', 'syntonic', 'b', '', '', ''),\n",
       "  ('C', None, 'maj', 'o', '', '', '', '', '', ''),\n",
       "  ('E', None, 'maj', 'p', '', '', '', '', '', '')],\n",
       " 'verse_2': [('A', None, 'min', 'o', '', '', '', '', '', ''),\n",
       "  ('D', None, 'min7', 'g', '', '', '', '', '', ''),\n",
       "  ('G', None, 'dom', 'p', 'dom', 'syntonic', 'b', '', '', ''),\n",
       "  ('C', None, 'maj7', 'o', '', '', '', '', '', ''),\n",
       "  ('F', None, 'maj', 'g', '', '', '', '', '', ''),\n",
       "  ('D', None, 'min', 'g', '', '', '', '', '', ''),\n",
       "  ('E', None, 'maj', 'p', '', '', '', '', '', ''),\n",
       "  ('A', None, 'min', 'o', '', '', '', '', '', ''),\n",
       "  ('A', None, 'dom', 'o', 'dom', 'syntonic', 'r', '', '', '')],\n",
       " 'chorus_2': [('D', None, 'min7', 'g', '', '', '', '', '', ''),\n",
       "  ('G', None, 'dom', 'p', 'dom', 'syntonic', 'b', '', '', ''),\n",
       "  ('C', None, 'maj', 'o', '', '', '', '', '', ''),\n",
       "  ('A', None, 'min', 'o', '', '', '', '', '', ''),\n",
       "  ('D', None, 'min7', 'g', '', '', '', '', '', ''),\n",
       "  ('G', None, 'dom', 'p', 'dom', 'syntonic', 'b', '', '', ''),\n",
       "  ('A', None, 'min7', 'o', '', '', '', '', '', ''),\n",
       "  ('G', None, 'maj', 'p', '', '', '', '', '', ''),\n",
       "  ('G', None, 'dom', 'p', 'dom', 'syntonic', 'b', '', '', ''),\n",
       "  ('C', None, 'maj', 'o', '', '', '', '', '', '')]}"
      ]
     },
     "execution_count": 2,
     "metadata": {},
     "output_type": "execute_result"
    }
   ],
   "source": [
    "chords = song_getter.func(song_name = 'fly me to the moon', artist_name = 'frank sinatra')\n",
    "chords"
   ]
  },
  {
   "cell_type": "code",
   "execution_count": 5,
   "metadata": {},
   "outputs": [
    {
     "data": {
      "image/png": "[encoded data removed]",
      "text/plain": [
       "<PIL.Image.Image image mode=RGB size=450x700>"
      ]
     },
     "execution_count": 5,
     "metadata": {},
     "output_type": "execute_result"
    }
   ],
   "source": [
    "secondary_colours = {key: [value[3] for value in values] for key, values in chords.items()}\n",
    "first_extension_colours = {key: [value[6] for value in values] for key, values in chords.items()}\n",
    "second_extension_colours = {key: [value[9] for value in values] for key, values in chords.items()}\n",
    "\n",
    "image = create_image_from_dictionary(secondary_colours, first_extension_colours, second_extension_colours)\n",
    "image"
   ]
  }
 ],
 "metadata": {
  "kernelspec": {
   "display_name": "ny-news-puller",
   "language": "python",
   "name": "python3"
  },
  "language_info": {
   "codemirror_mode": {
    "name": "ipython",
    "version": 3
   },
   "file_extension": ".py",
   "mimetype": "text/x-python",
   "name": "python",
   "nbconvert_exporter": "python",
   "pygments_lexer": "ipython3",
   "version": "3.10.11"
  },
  "orig_nbformat": 4
 },
 "nbformat": 4,
 "nbformat_minor": 2
}
