{
 "cells": [
  {
   "cell_type": "code",
   "execution_count": 1,
   "metadata": {},
   "outputs": [],
   "source": [
    "from tools.song_getter import *\n",
    "from classes.Song import Song"
   ]
  },
  {
   "cell_type": "code",
   "execution_count": 2,
   "metadata": {},
   "outputs": [
    {
     "data": {
      "text/plain": [
       "{'intro': ['D7', 'Dm', 'C', 'D7', 'Dm', 'C', 'G/B'],\n",
       " 'verse 1': ['Am',\n",
       "  'C',\n",
       "  'Dm',\n",
       "  'G',\n",
       "  'G7',\n",
       "  'C',\n",
       "  'Em/B',\n",
       "  'Am',\n",
       "  'C',\n",
       "  'Dm',\n",
       "  'G',\n",
       "  'C'],\n",
       " 'refrain': ['Em/B', 'Am', 'Em', 'Bb', 'C/G'],\n",
       " 'chorus': ['G',\n",
       "  'F',\n",
       "  'G',\n",
       "  'C',\n",
       "  'F',\n",
       "  'G',\n",
       "  'C',\n",
       "  'F',\n",
       "  'G',\n",
       "  'Am',\n",
       "  'D7',\n",
       "  'F',\n",
       "  'Fm',\n",
       "  'C',\n",
       "  'F',\n",
       "  'C',\n",
       "  'Em/B'],\n",
       " 'verse 2': ['Am',\n",
       "  'C',\n",
       "  'Dm',\n",
       "  'G',\n",
       "  'G7',\n",
       "  'C',\n",
       "  'Em/B',\n",
       "  'Am',\n",
       "  'C',\n",
       "  'Dm',\n",
       "  'G',\n",
       "  'C'],\n",
       " 'refrain_1': ['Em/B', 'Am', 'Em', 'Bb', 'C/G'],\n",
       " 'chorus_1': ['G',\n",
       "  'F',\n",
       "  'G',\n",
       "  'C',\n",
       "  'F',\n",
       "  'G',\n",
       "  'C',\n",
       "  'F',\n",
       "  'G',\n",
       "  'Am',\n",
       "  'D7',\n",
       "  'F',\n",
       "  'Fm',\n",
       "  'C'],\n",
       " 'bridge': ['F', 'G', 'C', 'G/B', 'Am', 'Em/G', 'D7', 'Dm', 'G'],\n",
       " 'chorus_2': ['F',\n",
       "  'G',\n",
       "  'C',\n",
       "  'F',\n",
       "  'G',\n",
       "  'C',\n",
       "  'F',\n",
       "  'G',\n",
       "  'Am',\n",
       "  'D7',\n",
       "  'F',\n",
       "  'Fm',\n",
       "  'C',\n",
       "  'D7',\n",
       "  'F',\n",
       "  'Fm',\n",
       "  'C']}"
      ]
     },
     "execution_count": 2,
     "metadata": {},
     "output_type": "execute_result"
    }
   ],
   "source": [
    "song = 'when I was your man'\n",
    "artist = 'bruno mars'\n",
    "\n",
    "structured_song = song_getter.func(song_name = song, artist_name = artist)\n",
    "structured_song"
   ]
  },
  {
   "cell_type": "code",
   "execution_count": 3,
   "metadata": {},
   "outputs": [
    {
     "data": {
      "image/png": "[encoded data removed]",
      "text/plain": [
       "<PIL.Image.Image image mode=RGB size=450x850>"
      ]
     },
     "execution_count": 3,
     "metadata": {},
     "output_type": "execute_result"
    }
   ],
   "source": [
    "s = Song(song_name = song, artist_name = artist, song_structure_and_chords = structured_song)\n",
    "s.create_coloured_chords_image()"
   ]
  }
 ],
 "metadata": {
  "kernelspec": {
   "display_name": "ny-news-puller",
   "language": "python",
   "name": "python3"
  },
  "language_info": {
   "codemirror_mode": {
    "name": "ipython",
    "version": 3
   },
   "file_extension": ".py",
   "mimetype": "text/x-python",
   "name": "python",
   "nbconvert_exporter": "python",
   "pygments_lexer": "ipython3",
   "version": "3.10.11"
  },
  "orig_nbformat": 4
 },
 "nbformat": 4,
 "nbformat_minor": 2
}
