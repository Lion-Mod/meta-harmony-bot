{
 "cells": [
  {
   "cell_type": "code",
   "execution_count": 1,
   "metadata": {},
   "outputs": [],
   "source": [
    "from tools.song_getter import *\n",
    "from functions.chord_data_processers import *\n",
    "from functions.coloured_image_generator import create_image_from_dictionary"
   ]
  },
  {
   "cell_type": "code",
   "execution_count": 3,
   "metadata": {},
   "outputs": [
    {
     "data": {
      "text/plain": [
       "{'intro': [('D', None, 'dom', 'g', 'dom', 'syntonic', 'y', '', '', ''),\n",
       "  ('D', None, 'min', 'g', '', '', '', '', '', ''),\n",
       "  ('C', None, 'maj', 'o', '', '', '', '', '', ''),\n",
       "  ('D', None, 'dom', 'g', 'dom', 'syntonic', 'y', '', '', ''),\n",
       "  ('D', None, 'min', 'g', '', '', '', '', '', ''),\n",
       "  ('C', None, 'maj', 'o', '', '', '', '', '', ''),\n",
       "  ('G', '/B', 'maj', 'p', '', '', '', '', '', '')],\n",
       " 'verse 1': [('A', None, 'min', 'o', '', '', '', '', '', ''),\n",
       "  ('C', None, 'maj', 'o', '', '', '', '', '', ''),\n",
       "  ('D', None, 'min', 'g', '', '', '', '', '', ''),\n",
       "  ('G', None, 'maj', 'p', '', '', '', '', '', ''),\n",
       "  ('G', None, 'dom', 'p', 'dom', 'syntonic', 'b', '', '', ''),\n",
       "  ('C', None, 'maj', 'o', '', '', '', '', '', ''),\n",
       "  ('E', '/B', 'min', 'p', '', '', '', '', '', ''),\n",
       "  ('A', None, 'min', 'o', '', '', '', '', '', ''),\n",
       "  ('C', None, 'maj', 'o', '', '', '', '', '', ''),\n",
       "  ('D', None, 'min', 'g', '', '', '', '', '', ''),\n",
       "  ('G', None, 'maj', 'p', '', '', '', '', '', ''),\n",
       "  ('C', None, 'maj', 'o', '', '', '', '', '', '')],\n",
       " 'refrain': [('E', '/B', 'min', 'p', '', '', '', '', '', ''),\n",
       "  ('A', None, 'min', 'o', '', '', '', '', '', ''),\n",
       "  ('E', None, 'min', 'p', '', '', '', '', '', ''),\n",
       "  ('Bb', None, 'maj', 'p', '', '', '', '', '', ''),\n",
       "  ('C', '/G', 'maj', 'o', '', '', '', '', '', '')],\n",
       " 'chorus': [('G', None, 'maj', 'p', '', '', '', '', '', ''),\n",
       "  ('F', None, 'maj', 'g', '', '', '', '', '', ''),\n",
       "  ('G', None, 'maj', 'p', '', '', '', '', '', ''),\n",
       "  ('C', None, 'maj', 'o', '', '', '', '', '', ''),\n",
       "  ('F', None, 'maj', 'g', '', '', '', '', '', ''),\n",
       "  ('G', None, 'maj', 'p', '', '', '', '', '', ''),\n",
       "  ('C', None, 'maj', 'o', '', '', '', '', '', ''),\n",
       "  ('F', None, 'maj', 'g', '', '', '', '', '', ''),\n",
       "  ('G', None, 'maj', 'p', '', '', '', '', '', ''),\n",
       "  ('A', None, 'min', 'o', '', '', '', '', '', ''),\n",
       "  ('D', None, 'dom', 'g', 'dom', 'syntonic', 'y', '', '', ''),\n",
       "  ('F', None, 'maj', 'g', '', '', '', '', '', ''),\n",
       "  ('F', None, 'min', 'g', '', '', '', '', '', ''),\n",
       "  ('C', None, 'maj', 'o', '', '', '', '', '', ''),\n",
       "  ('F', None, 'maj', 'g', '', '', '', '', '', ''),\n",
       "  ('C', None, 'maj', 'o', '', '', '', '', '', ''),\n",
       "  ('E', '/B', 'min', 'p', '', '', '', '', '', '')],\n",
       " 'verse 2': [('A', None, 'min', 'o', '', '', '', '', '', ''),\n",
       "  ('C', None, 'maj', 'o', '', '', '', '', '', ''),\n",
       "  ('D', None, 'min', 'g', '', '', '', '', '', ''),\n",
       "  ('G', None, 'maj', 'p', '', '', '', '', '', ''),\n",
       "  ('G', None, 'dom', 'p', 'dom', 'syntonic', 'b', '', '', ''),\n",
       "  ('C', None, 'maj', 'o', '', '', '', '', '', ''),\n",
       "  ('E', '/B', 'min', 'p', '', '', '', '', '', ''),\n",
       "  ('A', None, 'min', 'o', '', '', '', '', '', ''),\n",
       "  ('C', None, 'maj', 'o', '', '', '', '', '', ''),\n",
       "  ('D', None, 'min', 'g', '', '', '', '', '', ''),\n",
       "  ('G', None, 'maj', 'p', '', '', '', '', '', ''),\n",
       "  ('C', None, 'maj', 'o', '', '', '', '', '', '')],\n",
       " 'refrain_1': [('E', '/B', 'min', 'p', '', '', '', '', '', ''),\n",
       "  ('A', None, 'min', 'o', '', '', '', '', '', ''),\n",
       "  ('E', None, 'min', 'p', '', '', '', '', '', ''),\n",
       "  ('Bb', None, 'maj', 'p', '', '', '', '', '', ''),\n",
       "  ('C', '/G', 'maj', 'o', '', '', '', '', '', '')],\n",
       " 'chorus_1': [('G', None, 'maj', 'p', '', '', '', '', '', ''),\n",
       "  ('F', None, 'maj', 'g', '', '', '', '', '', ''),\n",
       "  ('G', None, 'maj', 'p', '', '', '', '', '', ''),\n",
       "  ('C', None, 'maj', 'o', '', '', '', '', '', ''),\n",
       "  ('F', None, 'maj', 'g', '', '', '', '', '', ''),\n",
       "  ('G', None, 'maj', 'p', '', '', '', '', '', ''),\n",
       "  ('C', None, 'maj', 'o', '', '', '', '', '', ''),\n",
       "  ('F', None, 'maj', 'g', '', '', '', '', '', ''),\n",
       "  ('G', None, 'maj', 'p', '', '', '', '', '', ''),\n",
       "  ('A', None, 'min', 'o', '', '', '', '', '', ''),\n",
       "  ('D', None, 'dom', 'g', 'dom', 'syntonic', 'y', '', '', ''),\n",
       "  ('F', None, 'maj', 'g', '', '', '', '', '', ''),\n",
       "  ('F', None, 'min', 'g', '', '', '', '', '', ''),\n",
       "  ('C', None, 'maj', 'o', '', '', '', '', '', '')],\n",
       " 'bridge': [('F', None, 'maj', 'g', '', '', '', '', '', ''),\n",
       "  ('G', None, 'maj', 'p', '', '', '', '', '', ''),\n",
       "  ('C', None, 'maj', 'o', '', '', '', '', '', ''),\n",
       "  ('G', '/B', 'maj', 'p', '', '', '', '', '', ''),\n",
       "  ('A', None, 'min', 'o', '', '', '', '', '', ''),\n",
       "  ('E', '/G', 'min', 'p', '', '', '', '', '', ''),\n",
       "  ('D', None, 'dom', 'g', 'dom', 'syntonic', 'y', '', '', ''),\n",
       "  ('D', None, 'min', 'g', '', '', '', '', '', ''),\n",
       "  ('G', None, 'maj', 'p', '', '', '', '', '', '')],\n",
       " 'chorus_2': [('F', None, 'maj', 'g', '', '', '', '', '', ''),\n",
       "  ('G', None, 'maj', 'p', '', '', '', '', '', ''),\n",
       "  ('C', None, 'maj', 'o', '', '', '', '', '', ''),\n",
       "  ('F', None, 'maj', 'g', '', '', '', '', '', ''),\n",
       "  ('G', None, 'maj', 'p', '', '', '', '', '', ''),\n",
       "  ('C', None, 'maj', 'o', '', '', '', '', '', ''),\n",
       "  ('F', None, 'maj', 'g', '', '', '', '', '', ''),\n",
       "  ('G', None, 'maj', 'p', '', '', '', '', '', ''),\n",
       "  ('A', None, 'min', 'o', '', '', '', '', '', ''),\n",
       "  ('D', None, 'dom', 'g', 'dom', 'syntonic', 'y', '', '', ''),\n",
       "  ('F', None, 'maj', 'g', '', '', '', '', '', ''),\n",
       "  ('F', None, 'min', 'g', '', '', '', '', '', ''),\n",
       "  ('C', None, 'maj', 'o', '', '', '', '', '', ''),\n",
       "  ('D', None, 'dom', 'g', 'dom', 'syntonic', 'y', '', '', ''),\n",
       "  ('F', None, 'maj', 'g', '', '', '', '', '', ''),\n",
       "  ('F', None, 'min', 'g', '', '', '', '', '', ''),\n",
       "  ('C', None, 'maj', 'o', '', '', '', '', '', '')]}"
      ]
     },
     "execution_count": 3,
     "metadata": {},
     "output_type": "execute_result"
    }
   ],
   "source": [
    "chords = song_getter.func(song_name = 'when I was your man', artist_name = 'bruno mars')\n",
    "chords"
   ]
  },
  {
   "cell_type": "code",
   "execution_count": 4,
   "metadata": {},
   "outputs": [
    {
     "data": {
      "image/png": "[encoded data removed]",
      "text/plain": [
       "<PIL.Image.Image image mode=RGB size=450x900>"
      ]
     },
     "execution_count": 4,
     "metadata": {},
     "output_type": "execute_result"
    }
   ],
   "source": [
    "secondary_colours = {key: [value[3] for value in values] for key, values in chords.items()}\n",
    "first_extension_colours = {key: [value[6] for value in values] for key, values in chords.items()}\n",
    "second_extension_colours = {key: [value[9] for value in values] for key, values in chords.items()}\n",
    "\n",
    "image = create_image_from_dictionary(secondary_colours, first_extension_colours, second_extension_colours)\n",
    "image"
   ]
  }
 ],
 "metadata": {
  "kernelspec": {
   "display_name": "ny-news-puller",
   "language": "python",
   "name": "python3"
  },
  "language_info": {
   "codemirror_mode": {
    "name": "ipython",
    "version": 3
   },
   "file_extension": ".py",
   "mimetype": "text/x-python",
   "name": "python",
   "nbconvert_exporter": "python",
   "pygments_lexer": "ipython3",
   "version": "3.10.11"
  },
  "orig_nbformat": 4
 },
 "nbformat": 4,
 "nbformat_minor": 2
}
