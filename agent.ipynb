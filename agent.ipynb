{
 "cells": [
  {
   "cell_type": "code",
   "execution_count": 9,
   "metadata": {},
   "outputs": [],
   "source": [
    "from langchain.chat_models import ChatOpenAI\n",
    "from langchain.agents import initialize_agent, AgentType\n",
    "from langchain.prompts import PromptTemplate \n",
    "from tools.song_getter import *\n",
    "from functions.coloured_image_generator import create_image_from_dictionary"
   ]
  },
  {
   "attachments": {},
   "cell_type": "markdown",
   "metadata": {},
   "source": [
    "# Run an agent"
   ]
  },
  {
   "cell_type": "code",
   "execution_count": 3,
   "metadata": {},
   "outputs": [
    {
     "name": "stdout",
     "output_type": "stream",
     "text": [
      "\n",
      "\n",
      "\u001b[1m> Entering new AgentExecutor chain...\u001b[0m\n",
      "\u001b[32;1m\u001b[1;3mAction:\n",
      "```\n",
      "{\n",
      "  \"action\": \"song_getter\",\n",
      "  \"action_input\": {\n",
      "    \"song_name\": \"fly me to the moon\",\n",
      "    \"artist_name\": \"frank sinatra\"\n",
      "  }\n",
      "}\n",
      "```\n",
      "\u001b[0m\n",
      "Observation: \u001b[36;1m\u001b[1;3m{'verse': [('A', 'min', 'o', '7', 'c', 'b'), ('D', 'min', 'g', '7', 'c', 'r'), ('G', 'dom', 'p', '7', 'c', 'y'), ('C', 'maj', 'o', '7', 'c', 'b'), ('F', 'maj', 'g', '', '', ''), ('D', 'min', 'g', '', '', ''), ('E', 'maj', 'p', '', '', ''), ('A', 'min', 'o', '', '', ''), ('A', 'dom', 'o', '7', 'c', 'b')], 'chorus': [('D', 'min', 'g', '7', 'c', 'r'), ('G', 'dom', 'p', '7', 'c', 'y'), ('C', 'maj', 'o', '', '', ''), ('A', 'min', 'o', '', '', ''), ('D', 'min', 'g', '7', 'c', 'r'), ('G', 'dom', 'p', '7', 'c', 'y'), ('C', 'maj', 'o', '', '', ''), ('E', 'maj', 'p', '', '', '')], 'verse_1': [('A', 'min', 'o', '', '', ''), ('D', 'min', 'g', '7', 'c', 'r'), ('G', 'dom', 'p', '7', 'c', 'y'), ('C', 'maj', 'o', '7', 'c', 'b'), ('F', 'maj', 'g', '', '', ''), ('D', 'min', 'g', '7', 'c', 'r'), ('E', 'maj', 'p', '', '', ''), ('A', 'min', 'o', '', '', ''), ('A', 'dom', 'o', '7', 'c', 'b')], 'chorus_1': [('D', 'min', 'g', '7', 'c', 'r'), ('G', 'dom', 'p', '7', 'c', 'y'), ('C', 'maj', 'o', '', '', ''), ('A', 'min', 'o', '', '', ''), ('E', 'maj', 'p', '', '', ''), ('D', 'min', 'g', '7', 'c', 'r'), ('G', 'dom', 'p', '7', 'c', 'y'), ('F', 'min', 'g', '', '', ''), ('C', 'maj', 'o', '', '', '')], 'instrumental': [('A', 'min', 'o', '', '', ''), ('D', 'min', 'g', '7', 'c', 'r'), ('G', 'dom', 'p', '7', 'c', 'y'), ('C', 'maj', 'o', '7', 'c', 'b'), ('F', 'maj', 'g', '', '', ''), ('D', 'min', 'g', '', '', ''), ('E', 'maj', 'p', '', '', ''), ('A', 'min', 'o', '', '', ''), ('D', 'min', 'g', '7', 'c', 'r'), ('G', 'dom', 'p', '7', 'c', 'y'), ('E', 'min', 'p', '', '', ''), ('A', 'dom', 'o', '7', 'c', 'b'), ('E', 'maj', 'p', '', '', ''), ('D', 'min', 'g', '7', 'c', 'r'), ('G', 'dom', 'p', '7', 'c', 'y'), ('C', 'maj', 'o', '', '', ''), ('E', 'maj', 'p', '', '', '')], 'verse_2': [('A', 'min', 'o', '', '', ''), ('D', 'min', 'g', '7', 'c', 'r'), ('G', 'dom', 'p', '7', 'c', 'y'), ('C', 'maj', 'o', '7', 'c', 'b'), ('F', 'maj', 'g', '', '', ''), ('D', 'min', 'g', '', '', ''), ('E', 'maj', 'p', '', '', ''), ('A', 'min', 'o', '', '', ''), ('A', 'dom', 'o', '7', 'c', 'b')], 'chorus_2': [('D', 'min', 'g', '7', 'c', 'r'), ('G', 'dom', 'p', '7', 'c', 'y'), ('C', 'maj', 'o', '', '', ''), ('A', 'min', 'o', '', '', ''), ('D', 'min', 'g', '7', 'c', 'r'), ('G', 'dom', 'p', '7', 'c', 'y'), ('A', 'min', 'o', '7', 'c', 'b'), ('G', 'maj', 'p', '', '', ''), ('G', 'dom', 'p', '7', 'c', 'y'), ('C', 'maj', 'o', '', '', '')]}\u001b[0m\n",
      "Thought:\u001b[32;1m\u001b[1;3mThe chord sheet has been successfully processed and coloured. I can now return the final answer to the human.\n",
      "Action:\n",
      "```\n",
      "{\n",
      "  \"action\": \"Final Answer\",\n",
      "  \"action_input\": \"{'verse': [('A', 'min', 'o', '7', 'c', 'b'), ('D', 'min', 'g', '7', 'c', 'r'), ('G', 'dom', 'p', '7', 'c', 'y'), ('C', 'maj', 'o', '7', 'c', 'b'), ('F', 'maj', 'g', '', '', ''), ('D', 'min', 'g', '', '', ''), ('E', 'maj', 'p', '', '', ''), ('A', 'min', 'o', '', '', ''), ('A', 'dom', 'o', '7', 'c', 'b')], 'chorus': [('D', 'min', 'g', '7', 'c', 'r'), ('G', 'dom', 'p', '7', 'c', 'y'), ('C', 'maj', 'o', '', '', ''), ('A', 'min', 'o', '', '', ''), ('D', 'min', 'g', '7', 'c', 'r'), ('G', 'dom', 'p', '7', 'c', 'y'), ('C', 'maj', 'o', '', '', ''), ('E', 'maj', 'p', '', '', '')], 'verse_1': [('A', 'min', 'o', '', '', ''), ('D', 'min', 'g', '7', 'c', 'r'), ('G', 'dom', 'p', '7', 'c', 'y'), ('C', 'maj', 'o', '7', 'c', 'b'), ('F', 'maj', 'g', '', '', ''), ('D', 'min', 'g', '7', 'c', 'r'), ('E', 'maj', 'p', '', '', ''), ('A', 'min', 'o', '', '', ''), ('A', 'dom', 'o', '7', 'c', 'b')], 'chorus_1': [('D', 'min', 'g', '7', 'c', 'r'), ('G', 'dom', 'p', '7', 'c', 'y'), ('C', 'maj', 'o', '', '', ''), ('A', 'min', 'o', '', '', ''), ('E', 'maj', 'p', '', '', ''), ('D', 'min', 'g', '7', 'c', 'r'), ('G', 'dom', 'p', '7', 'c', 'y'), ('F', 'min', 'g', '', '', ''), ('C', 'maj', 'o', '', '', '')], 'instrumental': [('A', 'min', 'o', '', '', ''), ('D', 'min', 'g', '7', 'c', 'r'), ('G', 'dom', 'p', '7', 'c', 'y'), ('C', 'maj', 'o', '7', 'c', 'b'), ('F', 'maj', 'g', '', '', ''), ('D', 'min', 'g', '', '', ''), ('E', 'maj', 'p', '', '', ''), ('A', 'min', 'o', '', '', ''), ('D', 'min', 'g', '7', 'c', 'r'), ('G', 'dom', 'p', '7', 'c', 'y'), ('E', 'min', 'p', '', '', ''), ('A', 'dom', 'o', '7', 'c', 'b'), ('E', 'maj', 'p', '', '', ''), ('D', 'min', 'g', '7', 'c', 'r'), ('G', 'dom', 'p', '7', 'c', 'y'), ('C', 'maj', 'o', '', '', ''), ('E', 'maj', 'p', '', '', '')], 'verse_2': [('A', 'min', 'o', '', '', ''), ('D', 'min', 'g', '7', 'c', 'r'), ('G', 'dom', 'p', '7', 'c', 'y'), ('C', 'maj', 'o', '7', 'c', 'b'), ('F', 'maj', 'g', '', '', ''), ('D', 'min', 'g', '', '', ''), ('E', 'maj', 'p', '', '', ''), ('A', 'min', 'o', '', '', ''), ('A', 'dom', 'o', '7', 'c', 'b')], 'chorus_2': [('D', 'min', 'g', '7', 'c', 'r'), ('G', 'dom', 'p', '7', 'c', 'y'), ('C', 'maj', 'o', '', '', ''), ('A', 'min', 'o', '', '', ''), ('D', 'min', 'g', '7', 'c', 'r'), ('G', 'dom', 'p', '7', 'c', 'y'), ('A', 'min', 'o', '7', 'c', 'b'), ('G', 'maj', 'p', '', '', ''), ('G', 'dom', 'p', '7', 'c', 'y'), ('C', 'maj', 'o', '', '', '')]}\"\n",
      "}\n",
      "```\n",
      "\n",
      "\u001b[0m\n",
      "\n",
      "\u001b[1m> Finished chain.\u001b[0m\n"
     ]
    }
   ],
   "source": [
    "# Create llm\n",
    "llm = ChatOpenAI(openai_api_key = 'OPENAI_API_KEY_HERE', temperature = 0, max_tokens = 2056)\n",
    "\n",
    "# List the tools that Agent can use (basic for now)\n",
    "tools = [song_getter]\n",
    "\n",
    "# Set up the Agent, give it the tools\n",
    "agent = initialize_agent(tools,\n",
    "                         llm,\n",
    "                         agent = AgentType.STRUCTURED_CHAT_ZERO_SHOT_REACT_DESCRIPTION,\n",
    "                         verbose = True)\n",
    "\n",
    "# Create the prompt template for the Agent to start off with\n",
    "prompt = PromptTemplate(\n",
    "          template = \"\"\"            \n",
    "          You are an AI assistant who's goal is to colour each chord in clean data and return it in a Python dictionary format. You have been given access to tools that can: \\n \n",
    "          - Create urls to mychordbook.com and get unclean chord sheet data from mychordbook.com, clean it and then colour it and return it in a Python dictionary format\n",
    "\n",
    "          Given this please do the following: \\n\n",
    "          Get and colour the appropriate mychordbook.com url for the song {song_name} by {artist_name}\n",
    "\n",
    "          When this is done end the chain and return the coloured cleaned chord sheet data\n",
    "           \"\"\",\n",
    "           input_variables = ['song_name', 'artist_name']                                                             \n",
    "        )\n",
    "\n",
    "# Fill in the prompt template with the song and artist\n",
    "prepared_prompt = prompt.format_prompt(song_name = 'fly me to the moon', artist_name = 'frank sinatra')\n",
    "\n",
    "# Run the Agent with the provided input variables\n",
    "output = agent.run(prepared_prompt)"
   ]
  },
  {
   "attachments": {},
   "cell_type": "markdown",
   "metadata": {},
   "source": [
    "# Convert the agent output into a dictionary for further processing"
   ]
  },
  {
   "cell_type": "code",
   "execution_count": 13,
   "metadata": {},
   "outputs": [
    {
     "data": {
      "text/plain": [
       "{'verse': [('A', 'min', 'o', '7', 'c', 'b'),\n",
       "  ('D', 'min', 'g', '7', 'c', 'r'),\n",
       "  ('G', 'dom', 'p', '7', 'c', 'y'),\n",
       "  ('C', 'maj', 'o', '7', 'c', 'b'),\n",
       "  ('F', 'maj', 'g', '', '', ''),\n",
       "  ('D', 'min', 'g', '', '', ''),\n",
       "  ('E', 'maj', 'p', '', '', ''),\n",
       "  ('A', 'min', 'o', '', '', ''),\n",
       "  ('A', 'dom', 'o', '7', 'c', 'b')],\n",
       " 'chorus': [('D', 'min', 'g', '7', 'c', 'r'),\n",
       "  ('G', 'dom', 'p', '7', 'c', 'y'),\n",
       "  ('C', 'maj', 'o', '', '', ''),\n",
       "  ('A', 'min', 'o', '', '', ''),\n",
       "  ('D', 'min', 'g', '7', 'c', 'r'),\n",
       "  ('G', 'dom', 'p', '7', 'c', 'y'),\n",
       "  ('C', 'maj', 'o', '', '', ''),\n",
       "  ('E', 'maj', 'p', '', '', '')],\n",
       " 'verse_1': [('A', 'min', 'o', '', '', ''),\n",
       "  ('D', 'min', 'g', '7', 'c', 'r'),\n",
       "  ('G', 'dom', 'p', '7', 'c', 'y'),\n",
       "  ('C', 'maj', 'o', '7', 'c', 'b'),\n",
       "  ('F', 'maj', 'g', '', '', ''),\n",
       "  ('D', 'min', 'g', '7', 'c', 'r'),\n",
       "  ('E', 'maj', 'p', '', '', ''),\n",
       "  ('A', 'min', 'o', '', '', ''),\n",
       "  ('A', 'dom', 'o', '7', 'c', 'b')],\n",
       " 'chorus_1': [('D', 'min', 'g', '7', 'c', 'r'),\n",
       "  ('G', 'dom', 'p', '7', 'c', 'y'),\n",
       "  ('C', 'maj', 'o', '', '', ''),\n",
       "  ('A', 'min', 'o', '', '', ''),\n",
       "  ('E', 'maj', 'p', '', '', ''),\n",
       "  ('D', 'min', 'g', '7', 'c', 'r'),\n",
       "  ('G', 'dom', 'p', '7', 'c', 'y'),\n",
       "  ('F', 'min', 'g', '', '', ''),\n",
       "  ('C', 'maj', 'o', '', '', '')],\n",
       " 'instrumental': [('A', 'min', 'o', '', '', ''),\n",
       "  ('D', 'min', 'g', '7', 'c', 'r'),\n",
       "  ('G', 'dom', 'p', '7', 'c', 'y'),\n",
       "  ('C', 'maj', 'o', '7', 'c', 'b'),\n",
       "  ('F', 'maj', 'g', '', '', ''),\n",
       "  ('D', 'min', 'g', '', '', ''),\n",
       "  ('E', 'maj', 'p', '', '', ''),\n",
       "  ('A', 'min', 'o', '', '', ''),\n",
       "  ('D', 'min', 'g', '7', 'c', 'r'),\n",
       "  ('G', 'dom', 'p', '7', 'c', 'y'),\n",
       "  ('E', 'min', 'p', '', '', ''),\n",
       "  ('A', 'dom', 'o', '7', 'c', 'b'),\n",
       "  ('E', 'maj', 'p', '', '', ''),\n",
       "  ('D', 'min', 'g', '7', 'c', 'r'),\n",
       "  ('G', 'dom', 'p', '7', 'c', 'y'),\n",
       "  ('C', 'maj', 'o', '', '', ''),\n",
       "  ('E', 'maj', 'p', '', '', '')],\n",
       " 'verse_2': [('A', 'min', 'o', '', '', ''),\n",
       "  ('D', 'min', 'g', '7', 'c', 'r'),\n",
       "  ('G', 'dom', 'p', '7', 'c', 'y'),\n",
       "  ('C', 'maj', 'o', '7', 'c', 'b'),\n",
       "  ('F', 'maj', 'g', '', '', ''),\n",
       "  ('D', 'min', 'g', '', '', ''),\n",
       "  ('E', 'maj', 'p', '', '', ''),\n",
       "  ('A', 'min', 'o', '', '', ''),\n",
       "  ('A', 'dom', 'o', '7', 'c', 'b')],\n",
       " 'chorus_2': [('D', 'min', 'g', '7', 'c', 'r'),\n",
       "  ('G', 'dom', 'p', '7', 'c', 'y'),\n",
       "  ('C', 'maj', 'o', '', '', ''),\n",
       "  ('A', 'min', 'o', '', '', ''),\n",
       "  ('D', 'min', 'g', '7', 'c', 'r'),\n",
       "  ('G', 'dom', 'p', '7', 'c', 'y'),\n",
       "  ('A', 'min', 'o', '7', 'c', 'b'),\n",
       "  ('G', 'maj', 'p', '', '', ''),\n",
       "  ('G', 'dom', 'p', '7', 'c', 'y'),\n",
       "  ('C', 'maj', 'o', '', '', '')]}"
      ]
     },
     "execution_count": 13,
     "metadata": {},
     "output_type": "execute_result"
    }
   ],
   "source": [
    "dict_output = string_to_dictionary(output)\n",
    "dict_output"
   ]
  },
  {
   "attachments": {},
   "cell_type": "markdown",
   "metadata": {},
   "source": [
    "# Get the secondary and extension colours from the output then create an image of the coloured chords"
   ]
  },
  {
   "cell_type": "code",
   "execution_count": 17,
   "metadata": {},
   "outputs": [
    {
     "data": {
      "image/png": "[encoded data removed]",
      "text/plain": [
       "<PIL.Image.Image image mode=RGB size=900x2100>"
      ]
     },
     "execution_count": 17,
     "metadata": {},
     "output_type": "execute_result"
    }
   ],
   "source": [
    "secondary_colours = {key: [value[2] for value in values] for key, values in dict_output.items()}\n",
    "extension_colours = {key: [value[5] for value in values] for key, values in dict_output.items()}\n",
    "\n",
    "image = create_image_from_dictionary(secondary_colours, extension_colours)\n",
    "image"
   ]
  }
 ],
 "metadata": {
  "kernelspec": {
   "display_name": "ny-news-puller",
   "language": "python",
   "name": "python3"
  },
  "language_info": {
   "codemirror_mode": {
    "name": "ipython",
    "version": 3
   },
   "file_extension": ".py",
   "mimetype": "text/x-python",
   "name": "python",
   "nbconvert_exporter": "python",
   "pygments_lexer": "ipython3",
   "version": "3.10.11"
  },
  "orig_nbformat": 4
 },
 "nbformat": 4,
 "nbformat_minor": 2
}
