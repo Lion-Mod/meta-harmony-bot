{
 "cells": [
  {
   "cell_type": "code",
   "execution_count": 6,
   "metadata": {},
   "outputs": [
    {
     "ename": "ImportError",
     "evalue": "attempted relative import with no known parent package",
     "output_type": "error",
     "traceback": [
      "\u001b[0;31m---------------------------------------------------------------------------\u001b[0m",
      "\u001b[0;31mImportError\u001b[0m                               Traceback (most recent call last)",
      "Cell \u001b[0;32mIn[6], line 4\u001b[0m\n\u001b[1;32m      2\u001b[0m \u001b[39mfrom\u001b[39;00m \u001b[39mlangchain\u001b[39;00m\u001b[39m.\u001b[39;00m\u001b[39magents\u001b[39;00m \u001b[39mimport\u001b[39;00m initialize_agent, AgentType\n\u001b[1;32m      3\u001b[0m \u001b[39mfrom\u001b[39;00m \u001b[39mlangchain\u001b[39;00m\u001b[39m.\u001b[39;00m\u001b[39mprompts\u001b[39;00m \u001b[39mimport\u001b[39;00m PromptTemplate \n\u001b[0;32m----> 4\u001b[0m \u001b[39mfrom\u001b[39;00m \u001b[39m.\u001b[39;00m\u001b[39mtools\u001b[39;00m\u001b[39m.\u001b[39;00m\u001b[39mchord_extractor\u001b[39;00m \u001b[39mimport\u001b[39;00m chord_extractor\n\u001b[1;32m      5\u001b[0m \u001b[39mfrom\u001b[39;00m \u001b[39m.\u001b[39;00m\u001b[39mtools\u001b[39;00m\u001b[39m.\u001b[39;00m\u001b[39mchord_sheet_getter\u001b[39;00m \u001b[39mimport\u001b[39;00m chord_sheet_getter\n",
      "\u001b[0;31mImportError\u001b[0m: attempted relative import with no known parent package"
     ]
    }
   ],
   "source": [
    "from langchain.chat_models import ChatOpenAI\n",
    "from langchain.agents import initialize_agent, AgentType\n",
    "from langchain.prompts import PromptTemplate \n",
    "from tools.chord_extractor import chord_extractor\n",
    "from tools.chord_sheet_getter import chord_sheet_getter"
   ]
  },
  {
   "cell_type": "code",
   "execution_count": null,
   "metadata": {},
   "outputs": [],
   "source": [
    "llm = ChatOpenAI(model_name = 'gpt-3.5-turbo', openai_api_key = ${{ secrets.API_KEY }}, temperature = 0)\n",
    "\n",
    "# List the tools that AI can use\n",
    "tools = [chord_sheet_getter, chord_extractor]\n",
    "\n",
    "# Set up the Agent, give it the tools\n",
    "agent = initialize_agent(tools,\n",
    "                         llm,\n",
    "                         agent = AgentType.STRUCTURED_CHAT_ZERO_SHOT_REACT_DESCRIPTION,\n",
    "                         verbose = True,\n",
    "                         max_iterations = 2)\n",
    "\n",
    "\n",
    "prompt = PromptTemplate(input_variables = ['song_name', 'artist_name'],                            \n",
    "          template = '''\n",
    "            You are an AI assistant who's been given access to tools to create urls to mychordbook.com, pull unclean chord sheet data from mychordbook.com and then clean up the unclean data and return it in a desired format.\n",
    "            Please get the chords for the song {song_name} by {artist_name} and clean them.         \n",
    "           '''                                                                      \n",
    "        )\n",
    "\n",
    "\n",
    "# Run the agent with the provided input variable\n",
    "result = agent.run(prompt.format_prompt(song_name = 'smells like teen spirit', artist_name = 'nirvana'))\n",
    "print(result)\n",
    "\n",
    "\n"
   ]
  }
 ],
 "metadata": {
  "kernelspec": {
   "display_name": "ny-news-puller",
   "language": "python",
   "name": "python3"
  },
  "language_info": {
   "codemirror_mode": {
    "name": "ipython",
    "version": 3
   },
   "file_extension": ".py",
   "mimetype": "text/x-python",
   "name": "python",
   "nbconvert_exporter": "python",
   "pygments_lexer": "ipython3",
   "version": "3.10.11"
  },
  "orig_nbformat": 4
 },
 "nbformat": 4,
 "nbformat_minor": 2
}
