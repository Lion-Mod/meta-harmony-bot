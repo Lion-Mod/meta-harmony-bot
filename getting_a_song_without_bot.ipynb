{
 "cells": [
  {
   "cell_type": "code",
   "execution_count": 1,
   "metadata": {},
   "outputs": [],
   "source": [
    "from tools.song_getter import *\n",
    "from functions.chord_data_processers import *\n",
    "from functions.coloured_image_generator import create_image_from_dictionary"
   ]
  },
  {
   "cell_type": "code",
   "execution_count": 3,
   "metadata": {},
   "outputs": [
    {
     "data": {
      "text/plain": [
       "{'song': [('F', 'maj', 'g', '', '', ''),\n",
       "  ('D', 'min', 'g', '', '', ''),\n",
       "  ('A#', 'maj', 'p', '', '', ''),\n",
       "  ('F', 'maj', 'g', '', '', ''),\n",
       "  ('D', 'min', 'g', '', '', ''),\n",
       "  ('A#', 'maj', 'p', '', '', ''),\n",
       "  ('F', 'maj', 'g', '', '', ''),\n",
       "  ('F', 'maj', 'g', '', '', ''),\n",
       "  ('D', 'min', 'g', '', '', ''),\n",
       "  ('A#', 'maj', 'p', '', '', ''),\n",
       "  ('F', 'maj', 'g', '', '', ''),\n",
       "  ('F', 'maj', 'g', '', '', ''),\n",
       "  ('D', 'min', 'g', '', '', ''),\n",
       "  ('A#', 'maj', 'p', '', '', ''),\n",
       "  ('F', 'maj', 'g', '', '', ''),\n",
       "  ('F', 'maj', 'g', '', '', ''),\n",
       "  ('D', 'min', 'g', '', '', ''),\n",
       "  ('A#', 'maj', 'p', '', '', ''),\n",
       "  ('F', 'maj', 'g', '', '', '')]}"
      ]
     },
     "execution_count": 3,
     "metadata": {},
     "output_type": "execute_result"
    }
   ],
   "source": [
    "chords = song_getter.func(song_name = 'just the way you are', artist_name = 'bruno mars')\n",
    "chords"
   ]
  },
  {
   "cell_type": "code",
   "execution_count": 5,
   "metadata": {},
   "outputs": [
    {
     "data": {
      "image/png": "[encoded data removed]",
      "text/plain": [
       "<PIL.Image.Image image mode=RGB size=900x300>"
      ]
     },
     "execution_count": 5,
     "metadata": {},
     "output_type": "execute_result"
    }
   ],
   "source": [
    "secondary_colours = {key: [value[2] for value in values] for key, values in chords.items()}\n",
    "extension_colours = {key: [value[5] for value in values] for key, values in chords.items()}\n",
    "\n",
    "image = create_image_from_dictionary(secondary_colours, extension_colours)\n",
    "image"
   ]
  }
 ],
 "metadata": {
  "kernelspec": {
   "display_name": "ny-news-puller",
   "language": "python",
   "name": "python3"
  },
  "language_info": {
   "codemirror_mode": {
    "name": "ipython",
    "version": 3
   },
   "file_extension": ".py",
   "mimetype": "text/x-python",
   "name": "python",
   "nbconvert_exporter": "python",
   "pygments_lexer": "ipython3",
   "version": "3.10.11"
  },
  "orig_nbformat": 4
 },
 "nbformat": 4,
 "nbformat_minor": 2
}
