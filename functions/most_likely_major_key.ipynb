{
 "cells": [
  {
   "cell_type": "markdown",
   "metadata": {},
   "source": [
    "# Grab the most likely major key\n"
   ]
  },
  {
   "cell_type": "code",
   "execution_count": 1,
   "metadata": {},
   "outputs": [
    {
     "name": "stdout",
     "output_type": "stream",
     "text": [
      "major keys\n",
      "{'C': 3, 'F': 2, 'G': 2, 'D': 1, 'Bb': 1}\n",
      "{'C': 'o'} \n",
      "\n"
     ]
    }
   ],
   "source": [
    "major_key_cubes = {\n",
    "    'C' : ['Cmaj', 'Dmin', 'Emin', 'Fmaj', 'Gmaj', 'Amin', 'Bdim'],\n",
    "    'C#' : ['C#maj', 'Dbmaj', 'D#min', 'Ebmin', 'Fmaj', 'F#maj', 'Gbmaj', 'G#maj', 'Abmaj', 'A#min', 'Bbmin', 'Cdim'],\n",
    "    'D' : ['Dmaj', 'Emin', 'F#min', 'Gbmaj', 'Gmaj', 'Amaj', 'Bmin', 'C#dim', 'Dbdim'],\n",
    "    'Eb' : ['D#maj', 'Ebmaj', 'Fmin', 'Gmin', 'G#min', 'Abmaj', 'A#maj', 'Bbmaj', 'Cmin', 'Ddim'],\n",
    "    'E' : ['Emaj', 'F#min', 'Gbmin', 'G#min', 'Abmin', 'Amaj', 'Bmaj', 'C#min', 'Dbmin', 'D#dim', 'Ebdim'],\n",
    "    'F' : ['Fmaj', 'Gmin', 'Amin', 'Bbmaj', 'Cmaj', 'Dmin', 'Edim'],\n",
    "    'F#' : ['F#maj', 'Gbmaj', 'G#min', 'Abmin', 'A#min', 'Bbmin', 'Bmaj', 'C#maj', 'Dbmaj', 'D#min', 'Ebmin', 'Fdim'],\n",
    "    'G' : ['Gmaj', 'Amin', 'Bmin', 'Cmaj', 'Dmaj', 'Emin', 'F#dim', 'Gbdim'],\n",
    "    'Ab' : ['G#maj', 'Abmaj', 'A#min', 'Bbmin', 'Cmin', 'C#min', 'Dbmaj', 'D#maj', 'Ebmaj', 'Fmin', 'Gdim'],\n",
    "    'A' : ['Amaj', 'Bmin', 'C#min', 'Dbmin', 'Dmaj', 'Emaj', 'F#min', 'Gbmin', 'G#dim', 'Abdim'],\n",
    "    'Bb' : ['A#maj', 'Bbmaj', 'Cmin', 'Dmin', 'D#min', 'Ebmaj', 'Fmaj', 'Gmin', 'Adim'],\n",
    "    'B' : ['Bmaj', 'C#min', 'Dbmin', 'D#min', 'Ebmin', 'Emaj', 'F#maj', 'Gbmaj', 'G#min', 'Abmin', 'A#dim', 'Bbdim']\n",
    "}\n",
    "\n",
    "# TODO\n",
    "# dorian\n",
    "# phrygian\n",
    "# lydian\n",
    "# mixolydian\n",
    "# other modes...\n",
    "\n",
    "\n",
    "alphacube_colours = {\n",
    "    'C' : 'o',\n",
    "    'C#' : 'p',\n",
    "    'Db' : 'g',\n",
    "    'D' : 'g',\n",
    "    'D#' : 'o',\n",
    "    'Eb' : 'o',\n",
    "    'E' : 'p',\n",
    "    'F' : 'g',\n",
    "    'F#' : 'o',\n",
    "    'Gb' : 'o',\n",
    "    'G' : 'p',\n",
    "    'G#' : 'g',\n",
    "    'Ab' : 'g',\n",
    "    'A' : 'o',\n",
    "    'A#' : 'p',\n",
    "    'Bb' : 'p',\n",
    "    'B' : 'g'\n",
    "}\n",
    "\n",
    "def get_most_likely_major_key_cube(chords):\n",
    "    \"\"\"\n",
    "    Get the most likely major key cube given the chords inputted E.g. ['Cmaj', 'Dmin', 'Emin'] is most likely C major\n",
    "    \"\"\"\n",
    "    for mode, key_cubes in zip(['major keys'], [major_key_cubes]):\n",
    "        \n",
    "        print(mode)\n",
    "        counts = {}  # Dictionary to store the count for each key_cube a chord is in\n",
    "        \n",
    "        # For each chord see which keys it falls in e.g. Cmaj is in Cmaj (or Amin), Fmaj (or Dmin), Gmaj\n",
    "        for chord in chords:\n",
    "            for key_cube, chords_in_key_cube in key_cubes.items():\n",
    "                if chord in chords_in_key_cube:\n",
    "                    counts[key_cube] = counts.get(key_cube, 0) + 1\n",
    "        print(counts)\n",
    "        \n",
    "        # Get the most likely keys but taking the keys that had the most chords\n",
    "        most_likely_keys = [lst_name for lst_name, count in counts.items() if count == max(counts.values())]\n",
    "        \n",
    "        # Get the most likely keys with their alphacube colours\n",
    "        most_likely_keys_with_colours = {key: alphacube_colours[key] for key in alphacube_colours if key in most_likely_keys}\n",
    "\n",
    "        \n",
    "        print(most_likely_keys_with_colours, '\\n')\n",
    "\n",
    "chords = ['Cmaj', 'Emin', 'Dmin']\n",
    "\n",
    "get_most_likely_major_key_cube(chords)\n"
   ]
  }
 ],
 "metadata": {
  "kernelspec": {
   "display_name": "ny-news-puller",
   "language": "python",
   "name": "python3"
  },
  "language_info": {
   "codemirror_mode": {
    "name": "ipython",
    "version": 3
   },
   "file_extension": ".py",
   "mimetype": "text/x-python",
   "name": "python",
   "nbconvert_exporter": "python",
   "pygments_lexer": "ipython3",
   "version": "3.10.11"
  },
  "orig_nbformat": 4
 },
 "nbformat": 4,
 "nbformat_minor": 2
}
